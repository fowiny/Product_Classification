{
 "cells": [
  {
   "cell_type": "code",
   "execution_count": 3,
   "metadata": {},
   "outputs": [],
   "source": [
    "import pandas as pd\n",
    "import numpy as np\n",
    "import scipy\n",
    "import matplotlib.pyplot as plt\n",
    "import seaborn as sns\n",
    "import math as math\n",
    "import pyodbc\n",
    "from sklearn.model_selection import train_test_split\n",
    "from sklearn.linear_model import LogisticRegression\n",
    "from sklearn.pipeline import make_pipeline\n",
    "from sklearn import tree"
   ]
  },
  {
   "cell_type": "code",
   "execution_count": 4,
   "metadata": {},
   "outputs": [],
   "source": [
    "# Create the connection to the sql server w.r.t to the DNS set\n",
    "conn = pyodbc.connect(\"DSN=sq02\", autocommit=True)\n",
    "\n",
    "# SQL query across the tables\n",
    "sql = \"\"\"\n",
    "\n",
    "-- Includes the universal codes cat.[Product Main Group], cat.[Activity Code] AND cat.[Product Sub-Group]\n",
    "select *\n",
    "from (\n",
    "select distinct I.No_ AS itemNo, UPPER(I.codMarchio) AS cM, I.[codReparto] AS cR, I.[codSesso] AS cS, cat.[Sport] AS sp, I.[codTipo] AS cT,\n",
    "cat.[Vendor No_] AS vNo, UPPER(cat.[Vendor Item No_]) AS vINo, UPPER(cat.[Item Description]) AS iD, cat.[Size Code] AS sC,\n",
    "\t\tcat.[Activity Code] AS aC, cat.[Product Main Group] AS pMG, cat.[Product Sub-Group] AS pSG, cat.Category\n",
    "\t\t--, I.[codSport] AS cG, cat.[Color Code] AS cC\n",
    "   FROM [3A_DWH].[dbo].[DimItem] I\n",
    "   inner join [3A_STAGE].[nav].[Listini - Details] cat on\n",
    "       UPPER(I.[Vendor Item No_]) = UPPER(cat.[Vendor Item No_])\n",
    "       and UPPER(I.codMarchio) = UPPER(cat.Brand) and UPPER(I.[codSesso]) = UPPER(cat.[Sex]) and UPPER(I.[Description]) = UPPER(cat.[Item Description])\n",
    "       --where cat.Category != ''\n",
    "\tWHERE cat.[Product Main Group] <> '' AND cat.[Activity Code] <> '' AND cat.[Product Sub-Group] <> ''\n",
    "   group by I.No_, I.[codMarchio], I.[codReparto], I.[codSesso], I.[codSport], I.[codTipo], cat.[Vendor No_],\n",
    "\tcat.[Vendor Item No_], cat.[Item Description], cat.[Sex], cat.[Sport], cat.[Size Code], cat.[Activity Code], cat.[Product Main Group], cat.[Product Sub-Group], cat.Category\n",
    "   --, I.[codSport], cat.[Color Code]\n",
    "   )t\n",
    "   group by itemNo, cM, cR, cS, sp, cT, vNo, vINo, iD, sC, ac, pMG, pSG, category\n",
    "   --, cG, cC\n",
    "  \n",
    "\"\"\""
   ]
  },
  {
   "cell_type": "code",
   "execution_count": 5,
   "metadata": {},
   "outputs": [],
   "source": [
    "# Read sql query output to panda dataframe\n",
    "df = pd.io.sql.read_sql(sql, conn)"
   ]
  },
  {
   "cell_type": "code",
   "execution_count": 6,
   "metadata": {},
   "outputs": [],
   "source": [
    "df.to_csv('dataset/productCategorizer.csv')"
   ]
  },
  {
   "cell_type": "code",
   "execution_count": 7,
   "metadata": {},
   "outputs": [
    {
     "data": {
      "text/html": [
       "<div>\n",
       "<style scoped>\n",
       "    .dataframe tbody tr th:only-of-type {\n",
       "        vertical-align: middle;\n",
       "    }\n",
       "\n",
       "    .dataframe tbody tr th {\n",
       "        vertical-align: top;\n",
       "    }\n",
       "\n",
       "    .dataframe thead th {\n",
       "        text-align: right;\n",
       "    }\n",
       "</style>\n",
       "<table border=\"1\" class=\"dataframe\">\n",
       "  <thead>\n",
       "    <tr style=\"text-align: right;\">\n",
       "      <th></th>\n",
       "      <th>itemNo</th>\n",
       "      <th>cM</th>\n",
       "      <th>cR</th>\n",
       "      <th>cS</th>\n",
       "      <th>sp</th>\n",
       "      <th>cT</th>\n",
       "      <th>vNo</th>\n",
       "      <th>vINo</th>\n",
       "      <th>iD</th>\n",
       "      <th>sC</th>\n",
       "      <th>aC</th>\n",
       "      <th>pMG</th>\n",
       "      <th>pSG</th>\n",
       "      <th>Category</th>\n",
       "    </tr>\n",
       "  </thead>\n",
       "  <tbody>\n",
       "    <tr>\n",
       "      <th>0</th>\n",
       "      <td>A03-00000015</td>\n",
       "      <td>A03</td>\n",
       "      <td>4</td>\n",
       "      <td>U</td>\n",
       "      <td>75</td>\n",
       "      <td>SC4</td>\n",
       "      <td>F02124</td>\n",
       "      <td>BB9788</td>\n",
       "      <td>RUNEO 10K</td>\n",
       "      <td>BB9788</td>\n",
       "      <td>75</td>\n",
       "      <td>96</td>\n",
       "      <td>1</td>\n",
       "      <td></td>\n",
       "    </tr>\n",
       "    <tr>\n",
       "      <th>1</th>\n",
       "      <td>A03-00000016</td>\n",
       "      <td>A03</td>\n",
       "      <td>4</td>\n",
       "      <td>J</td>\n",
       "      <td>75</td>\n",
       "      <td>SC4</td>\n",
       "      <td>F02124</td>\n",
       "      <td>BB9950</td>\n",
       "      <td>BB9TIS K</td>\n",
       "      <td>BB9950</td>\n",
       "      <td>75</td>\n",
       "      <td>96</td>\n",
       "      <td>6</td>\n",
       "      <td></td>\n",
       "    </tr>\n",
       "    <tr>\n",
       "      <th>2</th>\n",
       "      <td>A03-00000037</td>\n",
       "      <td>A03</td>\n",
       "      <td>1</td>\n",
       "      <td>U</td>\n",
       "      <td>75</td>\n",
       "      <td>PA1</td>\n",
       "      <td>F02124</td>\n",
       "      <td>BR3699</td>\n",
       "      <td>ESS 3S TCF P FL</td>\n",
       "      <td>BR3699</td>\n",
       "      <td>75</td>\n",
       "      <td>43</td>\n",
       "      <td>1</td>\n",
       "      <td></td>\n",
       "    </tr>\n",
       "    <tr>\n",
       "      <th>3</th>\n",
       "      <td>A03-00000040</td>\n",
       "      <td>A03</td>\n",
       "      <td>1</td>\n",
       "      <td>U</td>\n",
       "      <td>09</td>\n",
       "      <td>TS1</td>\n",
       "      <td>F02124</td>\n",
       "      <td>BS2588</td>\n",
       "      <td>MARKER TS</td>\n",
       "      <td>BS2588</td>\n",
       "      <td>78</td>\n",
       "      <td>33</td>\n",
       "      <td>4</td>\n",
       "      <td></td>\n",
       "    </tr>\n",
       "    <tr>\n",
       "      <th>4</th>\n",
       "      <td>A03-00000049</td>\n",
       "      <td>A03</td>\n",
       "      <td>1</td>\n",
       "      <td>J</td>\n",
       "      <td>00</td>\n",
       "      <td>TU1</td>\n",
       "      <td>F02124</td>\n",
       "      <td>CE8602</td>\n",
       "      <td>YB LINEAR TS CH</td>\n",
       "      <td>CE8602</td>\n",
       "      <td>00</td>\n",
       "      <td>33</td>\n",
       "      <td>3</td>\n",
       "      <td></td>\n",
       "    </tr>\n",
       "  </tbody>\n",
       "</table>\n",
       "</div>"
      ],
      "text/plain": [
       "         itemNo   cM cR cS  sp   cT     vNo    vINo               iD      sC  \\\n",
       "0  A03-00000015  A03  4  U  75  SC4  F02124  BB9788        RUNEO 10K  BB9788   \n",
       "1  A03-00000016  A03  4  J  75  SC4  F02124  BB9950         BB9TIS K  BB9950   \n",
       "2  A03-00000037  A03  1  U  75  PA1  F02124  BR3699  ESS 3S TCF P FL  BR3699   \n",
       "3  A03-00000040  A03  1  U  09  TS1  F02124  BS2588        MARKER TS  BS2588   \n",
       "4  A03-00000049  A03  1  J  00  TU1  F02124  CE8602  YB LINEAR TS CH  CE8602   \n",
       "\n",
       "   aC pMG pSG Category  \n",
       "0  75  96   1           \n",
       "1  75  96   6           \n",
       "2  75  43   1           \n",
       "3  78  33   4           \n",
       "4  00  33   3           "
      ]
     },
     "execution_count": 7,
     "metadata": {},
     "output_type": "execute_result"
    }
   ],
   "source": [
    "df.head()"
   ]
  },
  {
   "cell_type": "code",
   "execution_count": 8,
   "metadata": {},
   "outputs": [],
   "source": [
    "# replace all blank/empty cells with NaNs\n",
    "df.replace('', np.nan, inplace=True)"
   ]
  },
  {
   "cell_type": "code",
   "execution_count": 9,
   "metadata": {},
   "outputs": [
    {
     "data": {
      "text/html": [
       "<div>\n",
       "<style scoped>\n",
       "    .dataframe tbody tr th:only-of-type {\n",
       "        vertical-align: middle;\n",
       "    }\n",
       "\n",
       "    .dataframe tbody tr th {\n",
       "        vertical-align: top;\n",
       "    }\n",
       "\n",
       "    .dataframe thead th {\n",
       "        text-align: right;\n",
       "    }\n",
       "</style>\n",
       "<table border=\"1\" class=\"dataframe\">\n",
       "  <thead>\n",
       "    <tr style=\"text-align: right;\">\n",
       "      <th></th>\n",
       "      <th>itemNo</th>\n",
       "      <th>cM</th>\n",
       "      <th>cR</th>\n",
       "      <th>cS</th>\n",
       "      <th>sp</th>\n",
       "      <th>cT</th>\n",
       "      <th>vNo</th>\n",
       "      <th>vINo</th>\n",
       "      <th>iD</th>\n",
       "      <th>sC</th>\n",
       "      <th>aC</th>\n",
       "      <th>pMG</th>\n",
       "      <th>pSG</th>\n",
       "      <th>Category</th>\n",
       "    </tr>\n",
       "  </thead>\n",
       "  <tbody>\n",
       "    <tr>\n",
       "      <th>0</th>\n",
       "      <td>A03-00000015</td>\n",
       "      <td>A03</td>\n",
       "      <td>4</td>\n",
       "      <td>U</td>\n",
       "      <td>75</td>\n",
       "      <td>SC4</td>\n",
       "      <td>F02124</td>\n",
       "      <td>BB9788</td>\n",
       "      <td>RUNEO 10K</td>\n",
       "      <td>BB9788</td>\n",
       "      <td>75</td>\n",
       "      <td>96</td>\n",
       "      <td>1</td>\n",
       "      <td>NaN</td>\n",
       "    </tr>\n",
       "    <tr>\n",
       "      <th>1</th>\n",
       "      <td>A03-00000016</td>\n",
       "      <td>A03</td>\n",
       "      <td>4</td>\n",
       "      <td>J</td>\n",
       "      <td>75</td>\n",
       "      <td>SC4</td>\n",
       "      <td>F02124</td>\n",
       "      <td>BB9950</td>\n",
       "      <td>BB9TIS K</td>\n",
       "      <td>BB9950</td>\n",
       "      <td>75</td>\n",
       "      <td>96</td>\n",
       "      <td>6</td>\n",
       "      <td>NaN</td>\n",
       "    </tr>\n",
       "    <tr>\n",
       "      <th>2</th>\n",
       "      <td>A03-00000037</td>\n",
       "      <td>A03</td>\n",
       "      <td>1</td>\n",
       "      <td>U</td>\n",
       "      <td>75</td>\n",
       "      <td>PA1</td>\n",
       "      <td>F02124</td>\n",
       "      <td>BR3699</td>\n",
       "      <td>ESS 3S TCF P FL</td>\n",
       "      <td>BR3699</td>\n",
       "      <td>75</td>\n",
       "      <td>43</td>\n",
       "      <td>1</td>\n",
       "      <td>NaN</td>\n",
       "    </tr>\n",
       "    <tr>\n",
       "      <th>3</th>\n",
       "      <td>A03-00000040</td>\n",
       "      <td>A03</td>\n",
       "      <td>1</td>\n",
       "      <td>U</td>\n",
       "      <td>09</td>\n",
       "      <td>TS1</td>\n",
       "      <td>F02124</td>\n",
       "      <td>BS2588</td>\n",
       "      <td>MARKER TS</td>\n",
       "      <td>BS2588</td>\n",
       "      <td>78</td>\n",
       "      <td>33</td>\n",
       "      <td>4</td>\n",
       "      <td>NaN</td>\n",
       "    </tr>\n",
       "    <tr>\n",
       "      <th>4</th>\n",
       "      <td>A03-00000049</td>\n",
       "      <td>A03</td>\n",
       "      <td>1</td>\n",
       "      <td>J</td>\n",
       "      <td>00</td>\n",
       "      <td>TU1</td>\n",
       "      <td>F02124</td>\n",
       "      <td>CE8602</td>\n",
       "      <td>YB LINEAR TS CH</td>\n",
       "      <td>CE8602</td>\n",
       "      <td>00</td>\n",
       "      <td>33</td>\n",
       "      <td>3</td>\n",
       "      <td>NaN</td>\n",
       "    </tr>\n",
       "  </tbody>\n",
       "</table>\n",
       "</div>"
      ],
      "text/plain": [
       "         itemNo   cM cR cS  sp   cT     vNo    vINo               iD      sC  \\\n",
       "0  A03-00000015  A03  4  U  75  SC4  F02124  BB9788        RUNEO 10K  BB9788   \n",
       "1  A03-00000016  A03  4  J  75  SC4  F02124  BB9950         BB9TIS K  BB9950   \n",
       "2  A03-00000037  A03  1  U  75  PA1  F02124  BR3699  ESS 3S TCF P FL  BR3699   \n",
       "3  A03-00000040  A03  1  U  09  TS1  F02124  BS2588        MARKER TS  BS2588   \n",
       "4  A03-00000049  A03  1  J  00  TU1  F02124  CE8602  YB LINEAR TS CH  CE8602   \n",
       "\n",
       "   aC pMG pSG Category  \n",
       "0  75  96   1      NaN  \n",
       "1  75  96   6      NaN  \n",
       "2  75  43   1      NaN  \n",
       "3  78  33   4      NaN  \n",
       "4  00  33   3      NaN  "
      ]
     },
     "execution_count": 9,
     "metadata": {},
     "output_type": "execute_result"
    }
   ],
   "source": [
    "df.head()"
   ]
  },
  {
   "cell_type": "markdown",
   "metadata": {},
   "source": [
    "### Missing values in df\n",
    "###### https://www.datacamp.com/community/tutorials/categorical-data"
   ]
  },
  {
   "cell_type": "code",
   "execution_count": 10,
   "metadata": {},
   "outputs": [
    {
     "name": "stdout",
     "output_type": "stream",
     "text": [
      "79866 \n",
      " 19693\n"
     ]
    }
   ],
   "source": [
    "print(len(df), '\\n', df.isnull().values.sum())"
   ]
  },
  {
   "cell_type": "code",
   "execution_count": 11,
   "metadata": {},
   "outputs": [
    {
     "name": "stdout",
     "output_type": "stream",
     "text": [
      "79866 \n",
      "\n",
      " itemNo          0\n",
      "cM              0\n",
      "cR              0\n",
      "cS              0\n",
      "sp              0\n",
      "cT              0\n",
      "vNo             0\n",
      "vINo            0\n",
      "iD              0\n",
      "sC              0\n",
      "aC              0\n",
      "pMG             0\n",
      "pSG             0\n",
      "Category    19693\n",
      "dtype: int64\n"
     ]
    }
   ],
   "source": [
    "# column-wise distribution of null values\n",
    "print(len(df), '\\n\\n', df.isnull().sum())"
   ]
  },
  {
   "cell_type": "markdown",
   "metadata": {},
   "source": [
    "### Remove rows with NaN cells from any column except 'Category'"
   ]
  },
  {
   "cell_type": "code",
   "execution_count": 12,
   "metadata": {},
   "outputs": [
    {
     "name": "stdout",
     "output_type": "stream",
     "text": [
      "79866 \n",
      "\n",
      " itemNo          0\n",
      "cM              0\n",
      "cR              0\n",
      "cS              0\n",
      "sp              0\n",
      "cT              0\n",
      "vNo             0\n",
      "vINo            0\n",
      "iD              0\n",
      "sC              0\n",
      "aC              0\n",
      "pMG             0\n",
      "pSG             0\n",
      "Category    19693\n",
      "dtype: int64\n"
     ]
    }
   ],
   "source": [
    "df.dropna(subset = [ x for x in df.columns if x != 'Category'], inplace = True)\n",
    "print(len(df), '\\n\\n', df.isnull().sum())"
   ]
  },
  {
   "cell_type": "markdown",
   "metadata": {},
   "source": [
    "### Feature Engineering"
   ]
  },
  {
   "cell_type": "code",
   "execution_count": 13,
   "metadata": {},
   "outputs": [
    {
     "data": {
      "text/html": [
       "<div>\n",
       "<style scoped>\n",
       "    .dataframe tbody tr th:only-of-type {\n",
       "        vertical-align: middle;\n",
       "    }\n",
       "\n",
       "    .dataframe tbody tr th {\n",
       "        vertical-align: top;\n",
       "    }\n",
       "\n",
       "    .dataframe thead th {\n",
       "        text-align: right;\n",
       "    }\n",
       "</style>\n",
       "<table border=\"1\" class=\"dataframe\">\n",
       "  <thead>\n",
       "    <tr style=\"text-align: right;\">\n",
       "      <th></th>\n",
       "      <th>itemNo</th>\n",
       "      <th>cM</th>\n",
       "      <th>cR</th>\n",
       "      <th>cS</th>\n",
       "      <th>sp</th>\n",
       "      <th>cT</th>\n",
       "      <th>vNo</th>\n",
       "      <th>vINo</th>\n",
       "      <th>iD</th>\n",
       "      <th>sC</th>\n",
       "      <th>aC</th>\n",
       "      <th>pMG</th>\n",
       "      <th>pSG</th>\n",
       "      <th>Category</th>\n",
       "      <th>iD_0</th>\n",
       "      <th>iD_L</th>\n",
       "    </tr>\n",
       "  </thead>\n",
       "  <tbody>\n",
       "    <tr>\n",
       "      <th>79861</th>\n",
       "      <td>R04-00000826</td>\n",
       "      <td>R04</td>\n",
       "      <td>4</td>\n",
       "      <td>J</td>\n",
       "      <td>16</td>\n",
       "      <td>SC4</td>\n",
       "      <td>F02124</td>\n",
       "      <td>DV4041</td>\n",
       "      <td>REEBOK ROYAL CLJOG 2 KC</td>\n",
       "      <td>DV4041</td>\n",
       "      <td>46</td>\n",
       "      <td>06</td>\n",
       "      <td>3</td>\n",
       "      <td>RUNNING</td>\n",
       "      <td>REEBOK</td>\n",
       "      <td>KC</td>\n",
       "    </tr>\n",
       "    <tr>\n",
       "      <th>79862</th>\n",
       "      <td>R04-00000829</td>\n",
       "      <td>R04</td>\n",
       "      <td>4</td>\n",
       "      <td>J</td>\n",
       "      <td>75</td>\n",
       "      <td>SC4</td>\n",
       "      <td>F02124</td>\n",
       "      <td>DV3871</td>\n",
       "      <td>REEBOK ROYAL PRIME ALT</td>\n",
       "      <td>DV3871</td>\n",
       "      <td>75</td>\n",
       "      <td>96</td>\n",
       "      <td>3</td>\n",
       "      <td>CASUAL</td>\n",
       "      <td>REEBOK</td>\n",
       "      <td>ALT</td>\n",
       "    </tr>\n",
       "    <tr>\n",
       "      <th>79863</th>\n",
       "      <td>R04-00000833</td>\n",
       "      <td>R04</td>\n",
       "      <td>4</td>\n",
       "      <td>J</td>\n",
       "      <td>16</td>\n",
       "      <td>SC4</td>\n",
       "      <td>F02124</td>\n",
       "      <td>DV4434</td>\n",
       "      <td>REEBOK RUSH RUNNER</td>\n",
       "      <td>DV4434</td>\n",
       "      <td>46</td>\n",
       "      <td>06</td>\n",
       "      <td>3</td>\n",
       "      <td>RUNNING</td>\n",
       "      <td>REEBOK</td>\n",
       "      <td>RUNNER</td>\n",
       "    </tr>\n",
       "    <tr>\n",
       "      <th>79864</th>\n",
       "      <td>R04-00000853</td>\n",
       "      <td>R04</td>\n",
       "      <td>4</td>\n",
       "      <td>J</td>\n",
       "      <td>16</td>\n",
       "      <td>SC4</td>\n",
       "      <td>F02124</td>\n",
       "      <td>DV9029</td>\n",
       "      <td>REEBOK ROYAL CLJOG 2 KC</td>\n",
       "      <td>DV9029</td>\n",
       "      <td>46</td>\n",
       "      <td>06</td>\n",
       "      <td>3</td>\n",
       "      <td>RUNNING</td>\n",
       "      <td>REEBOK</td>\n",
       "      <td>KC</td>\n",
       "    </tr>\n",
       "    <tr>\n",
       "      <th>79865</th>\n",
       "      <td>Z99-0032919</td>\n",
       "      <td>A03</td>\n",
       "      <td>4</td>\n",
       "      <td>U</td>\n",
       "      <td>04</td>\n",
       "      <td>SC4</td>\n",
       "      <td>F02124</td>\n",
       "      <td>015110</td>\n",
       "      <td>COPA MUNDIAL</td>\n",
       "      <td>015110</td>\n",
       "      <td>32</td>\n",
       "      <td>15</td>\n",
       "      <td>1</td>\n",
       "      <td>FOOTBALL/SOCCER</td>\n",
       "      <td>COPA</td>\n",
       "      <td>MUNDIAL</td>\n",
       "    </tr>\n",
       "  </tbody>\n",
       "</table>\n",
       "</div>"
      ],
      "text/plain": [
       "             itemNo   cM cR cS  sp   cT     vNo    vINo  \\\n",
       "79861  R04-00000826  R04  4  J  16  SC4  F02124  DV4041   \n",
       "79862  R04-00000829  R04  4  J  75  SC4  F02124  DV3871   \n",
       "79863  R04-00000833  R04  4  J  16  SC4  F02124  DV4434   \n",
       "79864  R04-00000853  R04  4  J  16  SC4  F02124  DV9029   \n",
       "79865   Z99-0032919  A03  4  U  04  SC4  F02124  015110   \n",
       "\n",
       "                            iD      sC  aC pMG pSG         Category    iD_0  \\\n",
       "79861  REEBOK ROYAL CLJOG 2 KC  DV4041  46  06   3          RUNNING  REEBOK   \n",
       "79862   REEBOK ROYAL PRIME ALT  DV3871  75  96   3           CASUAL  REEBOK   \n",
       "79863       REEBOK RUSH RUNNER  DV4434  46  06   3          RUNNING  REEBOK   \n",
       "79864  REEBOK ROYAL CLJOG 2 KC  DV9029  46  06   3          RUNNING  REEBOK   \n",
       "79865             COPA MUNDIAL  015110  32  15   1  FOOTBALL/SOCCER    COPA   \n",
       "\n",
       "          iD_L  \n",
       "79861       KC  \n",
       "79862      ALT  \n",
       "79863   RUNNER  \n",
       "79864       KC  \n",
       "79865  MUNDIAL  "
      ]
     },
     "execution_count": 13,
     "metadata": {},
     "output_type": "execute_result"
    }
   ],
   "source": [
    "### split the iD column into strings by spaces\n",
    "df_iD = df.copy()\n",
    "series_iD = df['iD'].str.strip().str.split(' ')\n",
    "\n",
    "######Derive new array for first and last words on the lists........values changes from series to array to stop the NaN outputs\n",
    "df_iD['iD_0'] = series_iD.apply(lambda w: w[0]).values\n",
    "df_iD['iD_L'] = series_iD.apply(lambda w: w[-1]).values\n",
    "\n",
    "##### View last values of the file => check that NaN values are not registered\n",
    "df_iD.tail()"
   ]
  },
  {
   "cell_type": "code",
   "execution_count": 15,
   "metadata": {},
   "outputs": [
    {
     "data": {
      "text/html": [
       "<div>\n",
       "<style scoped>\n",
       "    .dataframe tbody tr th:only-of-type {\n",
       "        vertical-align: middle;\n",
       "    }\n",
       "\n",
       "    .dataframe tbody tr th {\n",
       "        vertical-align: top;\n",
       "    }\n",
       "\n",
       "    .dataframe thead th {\n",
       "        text-align: right;\n",
       "    }\n",
       "</style>\n",
       "<table border=\"1\" class=\"dataframe\">\n",
       "  <thead>\n",
       "    <tr style=\"text-align: right;\">\n",
       "      <th></th>\n",
       "      <th>itemNo</th>\n",
       "      <th>cM</th>\n",
       "      <th>cR</th>\n",
       "      <th>cS</th>\n",
       "      <th>sp</th>\n",
       "      <th>cT</th>\n",
       "      <th>vNo</th>\n",
       "      <th>vINo</th>\n",
       "      <th>iD</th>\n",
       "      <th>sC</th>\n",
       "      <th>aC</th>\n",
       "      <th>pMG</th>\n",
       "      <th>pSG</th>\n",
       "      <th>Category</th>\n",
       "      <th>iD_0</th>\n",
       "      <th>iD_L</th>\n",
       "    </tr>\n",
       "  </thead>\n",
       "  <tbody>\n",
       "    <tr>\n",
       "      <th>26</th>\n",
       "      <td>A03-00000171</td>\n",
       "      <td>A03</td>\n",
       "      <td>2</td>\n",
       "      <td>X</td>\n",
       "      <td>04</td>\n",
       "      <td>VA2</td>\n",
       "      <td>F02124</td>\n",
       "      <td>AP1091</td>\n",
       "      <td>REPLSTUDSCERAMI</td>\n",
       "      <td>AP1091</td>\n",
       "      <td>32</td>\n",
       "      <td>98</td>\n",
       "      <td>7</td>\n",
       "      <td>FOOTBALL/SOCCER</td>\n",
       "      <td>REPLSTUDSCERAMI</td>\n",
       "      <td>REPLSTUDSCERAMI</td>\n",
       "    </tr>\n",
       "    <tr>\n",
       "      <th>98</th>\n",
       "      <td>A03-00000190</td>\n",
       "      <td>A03</td>\n",
       "      <td>2</td>\n",
       "      <td>X</td>\n",
       "      <td>04</td>\n",
       "      <td>PR1</td>\n",
       "      <td>F02124</td>\n",
       "      <td>AP7035</td>\n",
       "      <td>EVERLESTO</td>\n",
       "      <td>AP7035</td>\n",
       "      <td>32</td>\n",
       "      <td>93</td>\n",
       "      <td>6</td>\n",
       "      <td>NaN</td>\n",
       "      <td>EVERLESTO</td>\n",
       "      <td>EVERLESTO</td>\n",
       "    </tr>\n",
       "    <tr>\n",
       "      <th>151</th>\n",
       "      <td>A03-00000045</td>\n",
       "      <td>A03</td>\n",
       "      <td>1</td>\n",
       "      <td>U</td>\n",
       "      <td>75</td>\n",
       "      <td>TS1</td>\n",
       "      <td>F02124</td>\n",
       "      <td>CD9242</td>\n",
       "      <td>NUMBER</td>\n",
       "      <td>CD9242</td>\n",
       "      <td>75</td>\n",
       "      <td>12</td>\n",
       "      <td>4</td>\n",
       "      <td>NaN</td>\n",
       "      <td>NUMBER</td>\n",
       "      <td>NUMBER</td>\n",
       "    </tr>\n",
       "    <tr>\n",
       "      <th>266</th>\n",
       "      <td>A03-00000171</td>\n",
       "      <td>A03</td>\n",
       "      <td>2</td>\n",
       "      <td>X</td>\n",
       "      <td>04</td>\n",
       "      <td>VA2</td>\n",
       "      <td>F02124</td>\n",
       "      <td>AP1091</td>\n",
       "      <td>REPLSTUDSCERAMI</td>\n",
       "      <td>AP1091</td>\n",
       "      <td>32</td>\n",
       "      <td>98</td>\n",
       "      <td>7</td>\n",
       "      <td>NaN</td>\n",
       "      <td>REPLSTUDSCERAMI</td>\n",
       "      <td>REPLSTUDSCERAMI</td>\n",
       "    </tr>\n",
       "    <tr>\n",
       "      <th>282</th>\n",
       "      <td>A03-00000257</td>\n",
       "      <td>A03</td>\n",
       "      <td>2</td>\n",
       "      <td>X</td>\n",
       "      <td>04</td>\n",
       "      <td>PA3</td>\n",
       "      <td>F02124</td>\n",
       "      <td>BS3453</td>\n",
       "      <td>FINALE17JUVECPT</td>\n",
       "      <td>BS3453</td>\n",
       "      <td>32</td>\n",
       "      <td>88</td>\n",
       "      <td>2</td>\n",
       "      <td>NaN</td>\n",
       "      <td>FINALE17JUVECPT</td>\n",
       "      <td>FINALE17JUVECPT</td>\n",
       "    </tr>\n",
       "    <tr>\n",
       "      <th>295</th>\n",
       "      <td>A03-00000351</td>\n",
       "      <td>A03</td>\n",
       "      <td>2</td>\n",
       "      <td>X</td>\n",
       "      <td>04</td>\n",
       "      <td>PR1</td>\n",
       "      <td>F02124</td>\n",
       "      <td>AP7036</td>\n",
       "      <td>EVERLESTO</td>\n",
       "      <td>AP7036</td>\n",
       "      <td>32</td>\n",
       "      <td>93</td>\n",
       "      <td>6</td>\n",
       "      <td>NaN</td>\n",
       "      <td>EVERLESTO</td>\n",
       "      <td>EVERLESTO</td>\n",
       "    </tr>\n",
       "    <tr>\n",
       "      <th>320</th>\n",
       "      <td>A03-00000308</td>\n",
       "      <td>A03</td>\n",
       "      <td>4</td>\n",
       "      <td>U</td>\n",
       "      <td>75</td>\n",
       "      <td>SC4</td>\n",
       "      <td>F02124</td>\n",
       "      <td>BB9783</td>\n",
       "      <td>10K</td>\n",
       "      <td>BB9783</td>\n",
       "      <td>75</td>\n",
       "      <td>96</td>\n",
       "      <td>1</td>\n",
       "      <td>NaN</td>\n",
       "      <td>10K</td>\n",
       "      <td>10K</td>\n",
       "    </tr>\n",
       "    <tr>\n",
       "      <th>351</th>\n",
       "      <td>A03-00000014</td>\n",
       "      <td>A03</td>\n",
       "      <td>4</td>\n",
       "      <td>U</td>\n",
       "      <td>75</td>\n",
       "      <td>SC4</td>\n",
       "      <td>F02124</td>\n",
       "      <td>BB9786</td>\n",
       "      <td>10K</td>\n",
       "      <td>BB9786</td>\n",
       "      <td>75</td>\n",
       "      <td>96</td>\n",
       "      <td>1</td>\n",
       "      <td>NaN</td>\n",
       "      <td>10K</td>\n",
       "      <td>10K</td>\n",
       "    </tr>\n",
       "    <tr>\n",
       "      <th>385</th>\n",
       "      <td>A03-00000258</td>\n",
       "      <td>A03</td>\n",
       "      <td>2</td>\n",
       "      <td>X</td>\n",
       "      <td>04</td>\n",
       "      <td>PA3</td>\n",
       "      <td>F02124</td>\n",
       "      <td>BS3456</td>\n",
       "      <td>FINALE17JUVEMIN</td>\n",
       "      <td>BS3456</td>\n",
       "      <td>32</td>\n",
       "      <td>88</td>\n",
       "      <td>2</td>\n",
       "      <td>NaN</td>\n",
       "      <td>FINALE17JUVEMIN</td>\n",
       "      <td>FINALE17JUVEMIN</td>\n",
       "    </tr>\n",
       "    <tr>\n",
       "      <th>413</th>\n",
       "      <td>A03-00000415</td>\n",
       "      <td>A03</td>\n",
       "      <td>2</td>\n",
       "      <td>X</td>\n",
       "      <td>04</td>\n",
       "      <td>PA3</td>\n",
       "      <td>F02124</td>\n",
       "      <td>AO4837</td>\n",
       "      <td>EUROPEANQGLI</td>\n",
       "      <td>AO4837</td>\n",
       "      <td>32</td>\n",
       "      <td>88</td>\n",
       "      <td>2</td>\n",
       "      <td>NaN</td>\n",
       "      <td>EUROPEANQGLI</td>\n",
       "      <td>EUROPEANQGLI</td>\n",
       "    </tr>\n",
       "  </tbody>\n",
       "</table>\n",
       "</div>"
      ],
      "text/plain": [
       "           itemNo   cM cR cS  sp   cT     vNo    vINo               iD  \\\n",
       "26   A03-00000171  A03  2  X  04  VA2  F02124  AP1091  REPLSTUDSCERAMI   \n",
       "98   A03-00000190  A03  2  X  04  PR1  F02124  AP7035        EVERLESTO   \n",
       "151  A03-00000045  A03  1  U  75  TS1  F02124  CD9242           NUMBER   \n",
       "266  A03-00000171  A03  2  X  04  VA2  F02124  AP1091  REPLSTUDSCERAMI   \n",
       "282  A03-00000257  A03  2  X  04  PA3  F02124  BS3453  FINALE17JUVECPT   \n",
       "295  A03-00000351  A03  2  X  04  PR1  F02124  AP7036        EVERLESTO   \n",
       "320  A03-00000308  A03  4  U  75  SC4  F02124  BB9783              10K   \n",
       "351  A03-00000014  A03  4  U  75  SC4  F02124  BB9786              10K   \n",
       "385  A03-00000258  A03  2  X  04  PA3  F02124  BS3456  FINALE17JUVEMIN   \n",
       "413  A03-00000415  A03  2  X  04  PA3  F02124  AO4837     EUROPEANQGLI   \n",
       "\n",
       "         sC  aC pMG pSG         Category             iD_0             iD_L  \n",
       "26   AP1091  32  98   7  FOOTBALL/SOCCER  REPLSTUDSCERAMI  REPLSTUDSCERAMI  \n",
       "98   AP7035  32  93   6              NaN        EVERLESTO        EVERLESTO  \n",
       "151  CD9242  75  12   4              NaN           NUMBER           NUMBER  \n",
       "266  AP1091  32  98   7              NaN  REPLSTUDSCERAMI  REPLSTUDSCERAMI  \n",
       "282  BS3453  32  88   2              NaN  FINALE17JUVECPT  FINALE17JUVECPT  \n",
       "295  AP7036  32  93   6              NaN        EVERLESTO        EVERLESTO  \n",
       "320  BB9783  75  96   1              NaN              10K              10K  \n",
       "351  BB9786  75  96   1              NaN              10K              10K  \n",
       "385  BS3456  32  88   2              NaN  FINALE17JUVEMIN  FINALE17JUVEMIN  \n",
       "413  AO4837  32  88   2              NaN     EUROPEANQGLI     EUROPEANQGLI  "
      ]
     },
     "execution_count": 15,
     "metadata": {},
     "output_type": "execute_result"
    }
   ],
   "source": [
    "df_iD[df_iD['iD_0']==df_iD['iD_L']].head(10)"
   ]
  },
  {
   "cell_type": "markdown",
   "metadata": {},
   "source": [
    "### Delete category classes that are very few"
   ]
  },
  {
   "cell_type": "code",
   "execution_count": 16,
   "metadata": {},
   "outputs": [
    {
     "name": "stdout",
     "output_type": "stream",
     "text": [
      "Perecntage remaining after deletion:  0.9995242030400922\n"
     ]
    }
   ],
   "source": [
    "## Create a dictionary of Category : value_count\n",
    "categ_count = dict(zip(df_iD['Category'].value_counts().index, df_iD['Category'].value_counts().values))\n",
    "### Create list of \"Category\" whose value_counts is less than 20 or as chosen\n",
    "elimnate_categs = [x for x in categ_count.keys() if categ_count[x] < 20]\n",
    "# Deleting rows with Category in elimnate_categs\n",
    "cleanedData = df_iD[~df_iD.Category.isin(elimnate_categs)]\n",
    "print ('Perecntage remaining after deletion: ', len(cleanedData)/len(df_iD))"
   ]
  },
  {
   "cell_type": "markdown",
   "metadata": {},
   "source": [
    "## Transform Categorical features to numerical"
   ]
  },
  {
   "cell_type": "code",
   "execution_count": 17,
   "metadata": {},
   "outputs": [],
   "source": [
    "#####   Transform Categorical features to numerical\n",
    "# w is the dataframe with categorical values\n",
    "def categ_maps(w):\n",
    "    mapping_dict = {}\n",
    "    for x, y in enumerate(w.columns):\n",
    "        d = {}\n",
    "        for a,b in enumerate(w.iloc[:,x].unique()):\n",
    "            d.update({b: a})\n",
    "        mapping_dict.update({y: d})\n",
    "    return mapping_dict\n",
    "# The function to map dataframe to numerical values\n",
    "def df_maps(z):\n",
    "    g = categ_maps(z)\n",
    "    df_mapped = pd.DataFrame()\n",
    "    for r in z.columns:\n",
    "        df_mapped[r] = z[r].map(g[r])\n",
    "    return df_mapped"
   ]
  },
  {
   "cell_type": "code",
   "execution_count": 18,
   "metadata": {},
   "outputs": [
    {
     "name": "stdout",
     "output_type": "stream",
     "text": [
      "79828 79828 \n",
      "\n",
      "    itemNo  cM  cR  cS  sp  cT  vNo  vINo  iD  sC  aC  pMG  pSG  Category  \\\n",
      "0       0   0   0   0   0   0    0     0   0   0   0    0    0         0   \n",
      "1       1   0   0   1   0   0    0     1   1   1   0    0    1         0   \n",
      "2       2   0   1   0   0   1    0     2   2   2   0    1    0         0   \n",
      "\n",
      "   iD_0  iD_L  \n",
      "0     0     0  \n",
      "1     1     1  \n",
      "2     2     2  \n"
     ]
    }
   ],
   "source": [
    "# Using df_maps created function, transform the data\n",
    "df_num = df_maps(cleanedData)\n",
    "print (len(cleanedData), len(df_num), '\\n\\n', df_num.head(3))"
   ]
  },
  {
   "cell_type": "code",
   "execution_count": 19,
   "metadata": {},
   "outputs": [
    {
     "name": "stdout",
     "output_type": "stream",
     "text": [
      "dict_keys(['itemNo', 'cM', 'cR', 'cS', 'sp', 'cT', 'vNo', 'vINo', 'iD', 'sC', 'aC', 'pMG', 'pSG', 'Category', 'iD_0', 'iD_L']) \n",
      "\n",
      "{nan: 0, 'NOT SPORTS SPECIFIC': 1, 'FOOTBALL/SOCCER': 2, 'BASKETBALL': 3, 'TENNIS': 4, 'SWIM': 5, 'TRAINING': 6, 'RUNNING': 7, 'RUGBY': 8, 'OUTDOOR': 9, 'SKATEBOARDING': 10, 'ORIGINALS': 11, 'NIKE SPORTSWEAR': 12, 'YOUNG ATHLETES': 13, 'FOOTBALL, BASEBALL, AT': 14, 'WOMEN TRAINING': 15, 'ACTION OUTDOOR': 16, 'OTHER': 17, 'CASUAL': 18} \n",
      "\n",
      "\n",
      "Null w.r.t numerical data :  19693 \n",
      " Null w.r.t original data :  19693\n"
     ]
    }
   ],
   "source": [
    "### Test functions\n",
    "dic_obj = categ_maps(cleanedData)\n",
    "print (dic_obj.keys(), '\\n')\n",
    "print (dic_obj['Category'], '\\n\\n')\n",
    "### Number of data with Null values and those with values\n",
    "print ('Null w.r.t numerical data : ', len(df_num[df_num['Category']==dic_obj['Category'][np.nan]]),\\\n",
    "       '\\n', 'Null w.r.t original data : ', len(cleanedData[cleanedData['Category'].isnull()]))"
   ]
  },
  {
   "cell_type": "code",
   "execution_count": 20,
   "metadata": {},
   "outputs": [],
   "source": [
    "scaledLabelledData = df_num[df_num['Category'] != 0]\n",
    "scaledUnlabelledData = df_num[df_num['Category'] == 0]"
   ]
  },
  {
   "cell_type": "code",
   "execution_count": 21,
   "metadata": {},
   "outputs": [
    {
     "name": "stdout",
     "output_type": "stream",
     "text": [
      "60135 19693\n"
     ]
    }
   ],
   "source": [
    "print (len(scaledLabelledData), len(scaledUnlabelledData))"
   ]
  },
  {
   "cell_type": "markdown",
   "metadata": {},
   "source": [
    "## Split dataset"
   ]
  },
  {
   "cell_type": "code",
   "execution_count": 22,
   "metadata": {},
   "outputs": [],
   "source": [
    "x_train, x_test, y_train, y_test = train_test_split(scaledLabelledData.drop(['Category'], axis=1), scaledLabelledData.loc\\\n",
    "                                                    [:,'Category'], test_size=0.25, random_state=0)"
   ]
  },
  {
   "cell_type": "markdown",
   "metadata": {},
   "source": [
    "## Decision tree"
   ]
  },
  {
   "cell_type": "code",
   "execution_count": 23,
   "metadata": {},
   "outputs": [],
   "source": [
    "prod = tree.DecisionTreeClassifier()\n",
    "prod = prod.fit(x_train, y_train)"
   ]
  },
  {
   "cell_type": "code",
   "execution_count": 24,
   "metadata": {},
   "outputs": [
    {
     "name": "stdout",
     "output_type": "stream",
     "text": [
      "y_labels      1     2    3   4   5    6     7   8   9   10  11    12    13  \\\n",
      "pred_labels                                                                  \n",
      "1            399     0    1   0   0    5     0   0   0   0   0     0     0   \n",
      "2              0  2604    0   0   0    0     0   0   0   0   0     5     0   \n",
      "3              0     0  558   0   0    0     0   0   0   0   0     0     1   \n",
      "4              0     0    0  67   0    0     1   0   0   0   1     0     0   \n",
      "5              0     0    0   0  70    0     0   0   0   0   0     0     0   \n",
      "6              3     0    0   0   0  233     0   0   0   0   0     0     0   \n",
      "7              0     0    0   0   0    0  1958   0   0   0   0     3     0   \n",
      "8              0     0    0   0   0    0     0  10   0   0   0     0     0   \n",
      "9              0     0    0   0   0    0     0   0   3   0   0     0     0   \n",
      "10             0     0    0   0   0    0     0   0   0  10   0     0     0   \n",
      "11             0     0    0   0   1    0     0   0   0   0  29     0     0   \n",
      "12             0     7    1   0   0    0     1   0   0   0   0  4031     1   \n",
      "13             0     0    7   0   0    0     0   0   0   0   0     0  2732   \n",
      "14             0     0    0   0   0    0     0   0   0   0   0     0     0   \n",
      "15             0     0    0   0   0    0     0   0   0   0   0     2     0   \n",
      "16             0     1    0   0   0    0     0   0   0   0   0     0     6   \n",
      "17             0     0    0   0   0    0     0   0   0   0   0     0     0   \n",
      "18             0     0    0   0   0    0     0   0   0   0   1     0     0   \n",
      "\n",
      "y_labels      14   15   16   17  18  \n",
      "pred_labels                          \n",
      "1              0    0    0    0   0  \n",
      "2              0    0    0    0   0  \n",
      "3              0    0    0    0   0  \n",
      "4              0    0    0    0   0  \n",
      "5              0    0    0    0   0  \n",
      "6              0    0    0    0   0  \n",
      "7              0    0    0    0   0  \n",
      "8              0    0    0    0   0  \n",
      "9              0    0    0    0   0  \n",
      "10             0    0    0    0   0  \n",
      "11             0    0    0    0   0  \n",
      "12             0    0    0    2   0  \n",
      "13             0    0    7    1   0  \n",
      "14           646    3    0    0   0  \n",
      "15             3  650    0    0   0  \n",
      "16             0    0  116    0   0  \n",
      "17             0    0    0  847   0  \n",
      "18             0    0    0    0   7  \n"
     ]
    }
   ],
   "source": [
    "# Use fit_predict to fit model and obtain cluster labels: labels\n",
    "pred_labels = prod.predict(x_test)\n",
    "\n",
    "# Create a DataFrame with clusters and varieties as columns: df\n",
    "dfpy = pd.DataFrame({'pred_labels': pred_labels, 'y_labels': y_test})\n",
    "\n",
    "# Create crosstab: ct\n",
    "ct = pd.crosstab(dfpy['pred_labels'], dfpy['y_labels'])\n",
    "\n",
    "# Display ct\n",
    "print(ct)"
   ]
  },
  {
   "cell_type": "markdown",
   "metadata": {},
   "source": [
    "## Retrain and perform unlabelled predictions"
   ]
  },
  {
   "cell_type": "code",
   "execution_count": 25,
   "metadata": {},
   "outputs": [],
   "source": [
    "prod_obj = tree.DecisionTreeClassifier()\n",
    "prod_model = prod_obj.fit(scaledLabelledData.drop(['Category'], axis=1), scaledLabelledData.loc[:,'Category'])"
   ]
  },
  {
   "cell_type": "code",
   "execution_count": 26,
   "metadata": {},
   "outputs": [],
   "source": [
    "predicted_unlabeled = prod_model.predict(scaledUnlabelledData.drop(['Category'], axis=1))"
   ]
  },
  {
   "cell_type": "code",
   "execution_count": 27,
   "metadata": {},
   "outputs": [],
   "source": [
    "# Invert the dictionary\n",
    "dic_keys = dic_obj['Category'].keys()\n",
    "dic_values = dic_obj['Category'].values()\n",
    "dic_inv = dict(zip(dic_values, dic_keys))"
   ]
  },
  {
   "cell_type": "code",
   "execution_count": 28,
   "metadata": {},
   "outputs": [
    {
     "name": "stdout",
     "output_type": "stream",
     "text": [
      "19693 19693 19693\n"
     ]
    }
   ],
   "source": [
    "predictions = [dic_inv[key] for key in predicted_unlabeled]\n",
    "#print (predicted_unlabeled, predictions)\n",
    "print (len(predictions), len(predicted_unlabeled), len(cleanedData[cleanedData['Category'].isnull()]))"
   ]
  },
  {
   "cell_type": "code",
   "execution_count": 29,
   "metadata": {},
   "outputs": [
    {
     "data": {
      "text/html": [
       "<div>\n",
       "<style scoped>\n",
       "    .dataframe tbody tr th:only-of-type {\n",
       "        vertical-align: middle;\n",
       "    }\n",
       "\n",
       "    .dataframe tbody tr th {\n",
       "        vertical-align: top;\n",
       "    }\n",
       "\n",
       "    .dataframe thead th {\n",
       "        text-align: right;\n",
       "    }\n",
       "</style>\n",
       "<table border=\"1\" class=\"dataframe\">\n",
       "  <thead>\n",
       "    <tr style=\"text-align: right;\">\n",
       "      <th></th>\n",
       "      <th>itemNo</th>\n",
       "      <th>cM</th>\n",
       "      <th>cR</th>\n",
       "      <th>cS</th>\n",
       "      <th>sp</th>\n",
       "      <th>cT</th>\n",
       "      <th>vNo</th>\n",
       "      <th>vINo</th>\n",
       "      <th>iD</th>\n",
       "      <th>sC</th>\n",
       "      <th>aC</th>\n",
       "      <th>pMG</th>\n",
       "      <th>pSG</th>\n",
       "      <th>iD_0</th>\n",
       "      <th>iD_L</th>\n",
       "      <th>Categ_ID</th>\n",
       "      <th>Category</th>\n",
       "    </tr>\n",
       "  </thead>\n",
       "  <tbody>\n",
       "    <tr>\n",
       "      <th>79805</th>\n",
       "      <td>R04-00000423</td>\n",
       "      <td>R04</td>\n",
       "      <td>4</td>\n",
       "      <td>U</td>\n",
       "      <td>75</td>\n",
       "      <td>SC4</td>\n",
       "      <td>F02124</td>\n",
       "      <td>BS9088</td>\n",
       "      <td>REEBOK ROYAL TECHQUE T</td>\n",
       "      <td>BS9088</td>\n",
       "      <td>75</td>\n",
       "      <td>96</td>\n",
       "      <td>1</td>\n",
       "      <td>REEBOK</td>\n",
       "      <td>T</td>\n",
       "      <td>4</td>\n",
       "      <td>TENNIS</td>\n",
       "    </tr>\n",
       "    <tr>\n",
       "      <th>79811</th>\n",
       "      <td>R04-00000466</td>\n",
       "      <td>R04</td>\n",
       "      <td>4</td>\n",
       "      <td>J</td>\n",
       "      <td>16</td>\n",
       "      <td>SC4</td>\n",
       "      <td>F02124</td>\n",
       "      <td>BS8014</td>\n",
       "      <td>REEBOK ROYAL CLJOG 2</td>\n",
       "      <td>BS8014</td>\n",
       "      <td>46</td>\n",
       "      <td>06</td>\n",
       "      <td>3</td>\n",
       "      <td>REEBOK</td>\n",
       "      <td>2</td>\n",
       "      <td>7</td>\n",
       "      <td>RUNNING</td>\n",
       "    </tr>\n",
       "    <tr>\n",
       "      <th>79820</th>\n",
       "      <td>R04-00000532</td>\n",
       "      <td>R04</td>\n",
       "      <td>2</td>\n",
       "      <td>X</td>\n",
       "      <td>00</td>\n",
       "      <td>VA2</td>\n",
       "      <td>F02124</td>\n",
       "      <td>BK3386</td>\n",
       "      <td>FOUND BOTTLE 500</td>\n",
       "      <td>BK3386</td>\n",
       "      <td>00</td>\n",
       "      <td>86</td>\n",
       "      <td>2</td>\n",
       "      <td>FOUND</td>\n",
       "      <td>500</td>\n",
       "      <td>6</td>\n",
       "      <td>TRAINING</td>\n",
       "    </tr>\n",
       "  </tbody>\n",
       "</table>\n",
       "</div>"
      ],
      "text/plain": [
       "             itemNo   cM cR cS  sp   cT     vNo    vINo  \\\n",
       "79805  R04-00000423  R04  4  U  75  SC4  F02124  BS9088   \n",
       "79811  R04-00000466  R04  4  J  16  SC4  F02124  BS8014   \n",
       "79820  R04-00000532  R04  2  X  00  VA2  F02124  BK3386   \n",
       "\n",
       "                           iD      sC  aC pMG pSG    iD_0 iD_L  Categ_ID  \\\n",
       "79805  REEBOK ROYAL TECHQUE T  BS9088  75  96   1  REEBOK    T         4   \n",
       "79811    REEBOK ROYAL CLJOG 2  BS8014  46  06   3  REEBOK    2         7   \n",
       "79820        FOUND BOTTLE 500  BK3386  00  86   2   FOUND  500         6   \n",
       "\n",
       "       Category  \n",
       "79805    TENNIS  \n",
       "79811   RUNNING  \n",
       "79820  TRAINING  "
      ]
     },
     "execution_count": 29,
     "metadata": {},
     "output_type": "execute_result"
    }
   ],
   "source": [
    "df_predictions = cleanedData[cleanedData['Category'].isnull()].drop('Category', axis = 1)\n",
    "df_predictions['Categ_ID'] = predicted_unlabeled\n",
    "df_predictions['Category'] = predictions\n",
    "df_predictions.tail(3)"
   ]
  },
  {
   "cell_type": "markdown",
   "metadata": {},
   "source": [
    "### Adjust output according to agent reviews"
   ]
  },
  {
   "cell_type": "markdown",
   "metadata": {},
   "source": [
    "#### LORIS"
   ]
  },
  {
   "cell_type": "code",
   "execution_count": 38,
   "metadata": {},
   "outputs": [],
   "source": [
    "# LORIS (cM=J11) advises that every column be labelled \"YOUNG ATHLETES\" ... Thereby replacing \"OTHER\" and \"NIKE SPORTSWEAR\"\n",
    "df_Loris = df_predictions.copy()"
   ]
  },
  {
   "cell_type": "code",
   "execution_count": 31,
   "metadata": {},
   "outputs": [],
   "source": [
    "cM_boolLo = (df_Loris['cM']=='J11') | (df_Loris['cM']=='N29') # Loris boolean list w.r.t J11 and N29\n",
    "categ_boolLo = (df_Loris['Category']!='YOUNG ATHLETES') # Loris boolean list w.r.t NOT 'YOUNG ATHLETES'\n",
    "no_categsLo = [x for x in dic_keys if x != 'YOUNG ATHLETES'] # List of all other categories but not 'YOUNG ATHLETES'\n",
    "Loris = df_Loris[cM_boolLo & categ_boolLo]['Category'].replace(no_categsLo, \"YOUNG ATHLETES\", inplace=False)\n",
    "df_Loris.update(Loris)"
   ]
  },
  {
   "cell_type": "code",
   "execution_count": 32,
   "metadata": {},
   "outputs": [
    {
     "name": "stdout",
     "output_type": "stream",
     "text": [
      "        cM  Categ_ID        Category\n",
      "18117  N29        12  YOUNG ATHLETES\n",
      "18571  J11         7  YOUNG ATHLETES\n",
      "19899  J11        12  YOUNG ATHLETES\n"
     ]
    }
   ],
   "source": [
    "print (df_Loris[cM_boolLo & categ_boolLo].loc[:, ['cM', 'Categ_ID', 'Category']].drop_duplicates())"
   ]
  },
  {
   "cell_type": "markdown",
   "metadata": {},
   "source": [
    "## Confirm an optional solution with Loris\n",
    "* In this approach, for N29 I replace only a selected list of categories BUT replacing every categ in list J11 that aren't 'YOUNG ATHLETES'"
   ]
  },
  {
   "cell_type": "code",
   "execution_count": 59,
   "metadata": {},
   "outputs": [],
   "source": [
    "df_Loris1 = df_predictions.copy()\n",
    "boolLo_J11 = (df_Loris1['cM']=='J11') & (df_Loris1['Category'] != 'YOUNG ATHLETES')\n",
    "boolLo_N29 = (df_Loris1['cM']=='N29') & (df_Loris1['Category'] == 'NIKE SPORTSWEAR')"
   ]
  },
  {
   "cell_type": "code",
   "execution_count": 49,
   "metadata": {},
   "outputs": [],
   "source": [
    "notCategs_J11 = [x for x in dic_keys if x != 'YOUNG ATHLETES']\n",
    "notCategs_N29 = [x for x in dic_keys if x == 'NIKE SPORTSWEAR' or x == 'TENNIS' or x == 'OTHER']"
   ]
  },
  {
   "cell_type": "code",
   "execution_count": 50,
   "metadata": {},
   "outputs": [],
   "source": [
    "serCateg_J11 = df_Loris1[boolLo_J11]['Category'].replace(notCategs_J11, \"YOUNG ATHLETES\", inplace=False)\n",
    "serCateg_N29 = df_Loris1[boolLo_N29]['Category'].replace(notCategs_N29, \"YOUNG ATHLETES\", inplace=False)"
   ]
  },
  {
   "cell_type": "code",
   "execution_count": 51,
   "metadata": {},
   "outputs": [],
   "source": [
    "df_Loris1.update(serCateg_J11)\n",
    "df_Loris1.update(serCateg_N29)"
   ]
  },
  {
   "cell_type": "code",
   "execution_count": 57,
   "metadata": {},
   "outputs": [
    {
     "name": "stdout",
     "output_type": "stream",
     "text": [
      "        cM  Categ_ID        Category\n",
      "18571  J11         7  YOUNG ATHLETES\n",
      "19899  J11        12  YOUNG ATHLETES\n",
      "\n",
      "        cM  Categ_ID        Category\n",
      "18117  N29        12  YOUNG ATHLETES\n",
      "\n",
      "        cM  Categ_ID        Category\n",
      "18111  J11        13  YOUNG ATHLETES\n",
      "18117  N29        12  YOUNG ATHLETES\n",
      "18118  N29        13  YOUNG ATHLETES\n",
      "18571  J11         7  YOUNG ATHLETES\n",
      "19899  J11        12  YOUNG ATHLETES\n"
     ]
    }
   ],
   "source": [
    "print (df_Loris1[boolLo_J11].loc[:, ['cM', 'Categ_ID', 'Category']].drop_duplicates())\n",
    "print ()\n",
    "print (df_Loris1[boolLo_N29].loc[:, ['cM', 'Categ_ID', 'Category']].drop_duplicates())\n",
    "print ()\n",
    "print (df_Loris1[(df_Loris1['cM']=='J11')|(df_Loris1['cM']=='N29')].loc[:, ['cM', 'Categ_ID', 'Category']].drop_duplicates())"
   ]
  },
  {
   "cell_type": "markdown",
   "metadata": {},
   "source": [
    "### Ezio"
   ]
  },
  {
   "cell_type": "code",
   "execution_count": 33,
   "metadata": {},
   "outputs": [],
   "source": [
    "# Ezio (cM=A03, R04) advises that every column \"TENNIS\" and \"NIKE SPORTSWEAR\" be replaced with \"CORE\"\n",
    "df_Ezio = df_Loris.copy()"
   ]
  },
  {
   "cell_type": "code",
   "execution_count": 34,
   "metadata": {},
   "outputs": [],
   "source": [
    "cM_boolEz = (df_Ezio['cM']=='A03') | (df_Ezio['cM']=='R04')\n",
    "categ_boolEz = (df_Ezio['Category']=='TENNIS')|(df_Ezio['Category']=='NIKE SPORTSWEAR')|(df_Ezio['Category']=='OTHER')\n",
    "Ezio = df_Ezio[cM_boolEz & categ_boolEz]['Category'].replace([\"TENNIS\", \"NIKE SPORTSWEAR\"], \"CORE\", inplace=False)\n",
    "df_Ezio.update(Ezio)"
   ]
  },
  {
   "cell_type": "code",
   "execution_count": 36,
   "metadata": {},
   "outputs": [
    {
     "name": "stdout",
     "output_type": "stream",
     "text": [
      "        cM  Categ_ID Category\n",
      "1      A03         4     CORE\n",
      "8100   R04         4     CORE\n",
      "16172  A03        12     CORE\n"
     ]
    }
   ],
   "source": [
    "print (df_Ezio[cM_boolEz & categ_boolEz].loc[:, ['cM', 'Categ_ID', 'Category']].drop_duplicates())"
   ]
  },
  {
   "cell_type": "markdown",
   "metadata": {},
   "source": [
    "### Obtain dataframe for Category dictionary"
   ]
  },
  {
   "cell_type": "code",
   "execution_count": 58,
   "metadata": {},
   "outputs": [
    {
     "name": "stdout",
     "output_type": "stream",
     "text": [
      "   categ_ID                category\n",
      "0         1     NOT SPORTS SPECIFIC\n",
      "1         2         FOOTBALL/SOCCER\n",
      "2         3              BASKETBALL\n",
      "3         4                  TENNIS\n",
      "4         5                    SWIM\n",
      "5         6                TRAINING\n",
      "6         7                 RUNNING\n",
      "7         8                   RUGBY\n",
      "8         9                 OUTDOOR\n",
      "9        10           SKATEBOARDING\n",
      "10       11               ORIGINALS\n",
      "11       12         NIKE SPORTSWEAR\n",
      "12       13          YOUNG ATHLETES\n",
      "13       14  FOOTBALL, BASEBALL, AT\n",
      "14       15          WOMEN TRAINING\n",
      "15       16          ACTION OUTDOOR\n",
      "16       17                   OTHER\n",
      "17       18                  CASUAL\n",
      "18  [4, 12]                    CORE\n"
     ]
    }
   ],
   "source": [
    "# dataframe of category dictionary\n",
    "df_dic = pd.DataFrame({'categ_ID':list(dic_values), 'category':list(dic_keys)}).iloc[1:, ]\n",
    "df_dict = df_dic.append({'categ_ID': [dic_obj['Category']['TENNIS'], dic_obj['Category']['NIKE SPORTSWEAR']],\\\n",
    "                         'category': 'CORE'}, ignore_index=True)\n",
    "print (df_dict)"
   ]
  },
  {
   "cell_type": "markdown",
   "metadata": {},
   "source": [
    "### Save outputs"
   ]
  },
  {
   "cell_type": "code",
   "execution_count": 60,
   "metadata": {},
   "outputs": [
    {
     "name": "stdout",
     "output_type": "stream",
     "text": [
      "Outputing result(s)\n"
     ]
    }
   ],
   "source": [
    "print (\"Outputing result(s)\")"
   ]
  },
  {
   "cell_type": "code",
   "execution_count": 61,
   "metadata": {},
   "outputs": [],
   "source": [
    "writer = pd.ExcelWriter('output/productCategorized.xlsx')\n",
    "df_Ezio.to_excel(writer,'productCategory')\n",
    "ct.to_excel(writer,'accuracyTest')\n",
    "df_dict.to_excel(writer,'dictionaryCategory')\n",
    "writer.save()"
   ]
  },
  {
   "cell_type": "code",
   "execution_count": 62,
   "metadata": {},
   "outputs": [
    {
     "name": "stdout",
     "output_type": "stream",
     "text": [
      "Experiment Successfully Accomplished\n"
     ]
    }
   ],
   "source": [
    "print (\"Experiment Successfully Accomplished\")"
   ]
  },
  {
   "cell_type": "code",
   "execution_count": 64,
   "metadata": {},
   "outputs": [
    {
     "name": "stdout",
     "output_type": "stream",
     "text": [
      " Il volume nell'unit… C non ha etichetta.\n",
      " Numero di serie del volume: 3660-697C\n",
      "\n",
      " Directory di C:\\Users\\festo.owiny\\Desktop\\Models\\productCategorization\n",
      "\n",
      "19/11/2018  10:16    <DIR>          .\n",
      "19/11/2018  10:16    <DIR>          ..\n",
      "19/11/2018  08:56    <DIR>          .ipynb_checkpoints\n",
      "19/11/2018  08:57    <DIR>          dataset\n",
      "19/11/2018  10:15    <DIR>          output\n",
      "19/11/2018  10:16            54.013 productCategorizer.ipynb\n",
      "16/11/2018  16:39             8.658 productCategorizer.py\n",
      "16/10/2018  14:40               164 run.bat\n",
      "               3 File         62.835 byte\n",
      "               5 Directory  384.395.206.656 byte disponibili\n"
     ]
    }
   ],
   "source": [
    "!dir"
   ]
  },
  {
   "cell_type": "code",
   "execution_count": null,
   "metadata": {},
   "outputs": [],
   "source": []
  }
 ],
 "metadata": {
  "kernelspec": {
   "display_name": "Python [conda env:python3]",
   "language": "python",
   "name": "conda-env-python3-py"
  },
  "language_info": {
   "codemirror_mode": {
    "name": "ipython",
    "version": 3
   },
   "file_extension": ".py",
   "mimetype": "text/x-python",
   "name": "python",
   "nbconvert_exporter": "python",
   "pygments_lexer": "ipython3",
   "version": "3.7.1"
  }
 },
 "nbformat": 4,
 "nbformat_minor": 2
}
